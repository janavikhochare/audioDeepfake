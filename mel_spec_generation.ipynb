{
 "cells": [
  {
   "cell_type": "code",
   "execution_count": null,
   "metadata": {},
   "outputs": [],
   "source": [
    "import tarfile\n",
    "\n",
    "if fname.endswith(\"tar.gz\"):\n",
    "    tar = tarfile.open(fname, \"r:gz\")\n",
    "    tar.extractall()\n",
    "    tar.close()\n",
    "elif fname.endswith(\"tar\"):\n",
    "    tar = tarfile.open(fname, \"r:\")\n",
    "    tar.extractall()\n",
    "    tar.close()"
   ]
  },
  {
   "cell_type": "code",
   "execution_count": 1,
   "metadata": {},
   "outputs": [],
   "source": [
    "import tarfile\n",
    "my_tar = tarfile.open('for-2sec-Copy1.tar.gz')\n",
    "my_tar.extractall('./audio_detection') # specify which folder to extract to\n",
    "my_tar.close()"
   ]
  },
  {
   "cell_type": "code",
   "execution_count": null,
   "metadata": {},
   "outputs": [],
   "source": [
    "def load_wav(path, sr):\n",
    "\treturn librosa.core.load(path, sr=sr)[0]"
   ]
  },
  {
   "cell_type": "code",
   "execution_count": null,
   "metadata": {},
   "outputs": [],
   "source": [
    "def melspectrogram(wav, hparams):\n",
    "\t# D = _stft(preemphasis(wav, hparams.preemphasis, hparams.preemphasize), hparams)\n",
    "\tD = _stft(wav, hparams)\n",
    "\tS = _amp_to_db(_linear_to_mel(np.abs(D)**hparams.magnitude_power, hparams), hparams) - hparams.ref_level_db\n",
    "\n",
    "\tif hparams.signal_normalization:\n",
    "\t\treturn _normalize(S, hparams)\n",
    "\treturn S"
   ]
  },
  {
   "cell_type": "code",
   "execution_count": null,
   "metadata": {},
   "outputs": [],
   "source": [
    "# Size of the FFT, which will also be used as the window length\n",
    "n_fft=2048\n",
    "\n",
    "# Step or stride between windows. If the step is smaller than the window lenght, the windows will overlap\n",
    "hop_length=512\n",
    "\n",
    "# Load sample audio file\n",
    "y, sr = librosa.load(\"file1000.wave_16k.wave_norm.wav\")\n",
    "\n",
    "# Calculate the spectrogram as the square of the complex magnitude of the STFT\n",
    "spectrogram_librosa = np.abs(librosa.stft(\n",
    "    y, n_fft=n_fft, hop_length=hop_length, win_length=n_fft, window='hann')) ** 2\n"
   ]
  },
  {
   "cell_type": "code",
   "execution_count": null,
   "metadata": {},
   "outputs": [],
   "source": [
    "spectrogram_librosa_db = librosa.power_to_db(spectrogram_librosa, ref=np.max)"
   ]
  },
  {
   "cell_type": "code",
   "execution_count": null,
   "metadata": {},
   "outputs": [],
   "source": [
    "librosa.display.specshow(spectrogram_librosa_db, sr=sr, y_axis='log', x_axis='time', hop_length=hop_length)\n",
    "plt.title('Reference power spectrogram')\n",
    "plt.colorbar(format='%+2.0f dB')\n",
    "plt.tight_layout()\n",
    "plt.show()"
   ]
  },
  {
   "cell_type": "code",
   "execution_count": null,
   "metadata": {},
   "outputs": [],
   "source": [
    "!pip install soundfile"
   ]
  },
  {
   "cell_type": "code",
   "execution_count": null,
   "metadata": {},
   "outputs": [],
   "source": [
    "!pip install librosa==0.8.0"
   ]
  },
  {
   "cell_type": "code",
   "execution_count": null,
   "metadata": {},
   "outputs": [],
   "source": [
    "!apt-get update"
   ]
  },
  {
   "cell_type": "code",
   "execution_count": null,
   "metadata": {},
   "outputs": [],
   "source": [
    "!apt-get install libsndfile-dev -y"
   ]
  },
  {
   "cell_type": "code",
   "execution_count": null,
   "metadata": {},
   "outputs": [],
   "source": [
    "!pip install matplotlib"
   ]
  },
  {
   "cell_type": "code",
   "execution_count": 1,
   "metadata": {},
   "outputs": [],
   "source": [
    "from IPython.display import Audio\n",
    "import soundfile as sf\n",
    "from scipy.signal import spectrogram\n",
    "import matplotlib.pyplot as plt\n",
    "import os\n",
    "import librosa\n",
    "import librosa.display\n",
    "from tqdm import tqdm_notebook\n",
    "from pathlib import Path\n",
    "import shutil\n",
    "import numpy as np\n",
    "import scipy\n",
    "from random import shuffle"
   ]
  },
  {
   "cell_type": "code",
   "execution_count": 2,
   "metadata": {},
   "outputs": [],
   "source": [
    "threshold = 256"
   ]
  },
  {
   "cell_type": "code",
   "execution_count": 9,
   "metadata": {},
   "outputs": [],
   "source": [
    "for split in ['train','dev','eval']:\n",
    "    for label in ['real','fake']:\n",
    "        Path(f'mel_spec/{split}/{label}').mkdir(parents=True, exist_ok = True)"
   ]
  },
  {
   "cell_type": "code",
   "execution_count": null,
   "metadata": {},
   "outputs": [],
   "source": [
    "!pip install ipywidgets"
   ]
  },
  {
   "cell_type": "code",
   "execution_count": null,
   "metadata": {
    "scrolled": true
   },
   "outputs": [],
   "source": [
    "import os\n",
    "\n",
    "n_mels = 256\n",
    "fmin = 20\n",
    "fmax = 8192\n",
    "hop_length = 128\n",
    "n_fft = 1024\n",
    "for split in ['train','dev','eval']:\n",
    "    for label in ['real','fake']:\n",
    "        #print(os.getcwd())\n",
    "        files = [f for f in os.listdir('/raid/audio_detection/audio_detection/for-norm/'+f'{split}/{label}') if 'wav' in f ]\n",
    "        #print(files)\n",
    "        #print(os.getcwd())\n",
    "        for file in tqdm_notebook(files, desc = f'{split}_{label}'):\n",
    "            clip, sample_rate = librosa.load(f'for-norm/{split}/{label}/{file}', sr=None)\n",
    "            try:\n",
    "                mel_spec = librosa.feature.melspectrogram(clip, n_fft=n_fft, hop_length=hop_length, n_mels=n_mels, sr=sample_rate, power=1.0, fmin=fmin, fmax=fmax)\n",
    "                if mel_spec.shape[0] > mel_spec.shape[1]:\n",
    "                    continue\n",
    "                mel_spec_db = librosa.amplitude_to_db(mel_spec, ref=np.max)\n",
    "                filename = file.split('.')[0]\n",
    "                plt.imsave(f'mel_spec/{split}/{label}/{filename}.jpg',mel_spec_db[::-1,:],cmap='gray')\n",
    "            except:\n",
    "                print(\"isn't defined!\")\n"
   ]
  },
  {
   "cell_type": "code",
   "execution_count": 4,
   "metadata": {},
   "outputs": [],
   "source": [
    "import librosa"
   ]
  },
  {
   "cell_type": "code",
   "execution_count": null,
   "metadata": {
    "scrolled": false
   },
   "outputs": [],
   "source": [
    "import os\n",
    "\n",
    "n_mels = 256\n",
    "fmin = 20\n",
    "fmax = 8192\n",
    "hop_length = 128\n",
    "n_fft = 1024\n",
    "\n",
    "for split in ['train','dev','eval']:\n",
    "    for label in ['real','fake']:\n",
    "        #print(os.getcwd())\n",
    "        files = [f for f in os.listdir('/raid/audio_detection/audio_detection/for-norm/'+f'{split}/{label}') if 'wav' in f ]\n",
    "        #print(files)\n",
    "        #print(os.getcwd())\n",
    "        for file in tqdm_notebook(files, desc = f'{split}_{label}'):\n",
    "            clip, sample_rate = librosa.load(f'for-norm/{split}/{label}/{file}', sr=None)\n",
    "            print(sample_rate)"
   ]
  }
 ],
 "metadata": {
  "kernelspec": {
   "display_name": "Python 3",
   "language": "python",
   "name": "python3"
  },
  "language_info": {
   "codemirror_mode": {
    "name": "ipython",
    "version": 3
   },
   "file_extension": ".py",
   "mimetype": "text/x-python",
   "name": "python",
   "nbconvert_exporter": "python",
   "pygments_lexer": "ipython3",
   "version": "3.5.2"
  }
 },
 "nbformat": 4,
 "nbformat_minor": 4
}
