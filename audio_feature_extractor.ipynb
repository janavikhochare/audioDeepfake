{
 "cells": [
  {
   "cell_type": "code",
   "execution_count": null,
   "metadata": {},
   "outputs": [],
   "source": [
    "!pip install soundfile"
   ]
  },
  {
   "cell_type": "code",
   "execution_count": null,
   "metadata": {},
   "outputs": [],
   "source": [
    "!pip install librosa==0.8.0"
   ]
  },
  {
   "cell_type": "code",
   "execution_count": null,
   "metadata": {},
   "outputs": [],
   "source": [
    "!apt-get update"
   ]
  },
  {
   "cell_type": "code",
   "execution_count": null,
   "metadata": {},
   "outputs": [],
   "source": [
    "!apt-get install libsndfile-dev -y"
   ]
  },
  {
   "cell_type": "code",
   "execution_count": null,
   "metadata": {},
   "outputs": [],
   "source": [
    "!pip install matplotlib"
   ]
  },
  {
   "cell_type": "code",
   "execution_count": null,
   "metadata": {},
   "outputs": [],
   "source": [
    "!pip install ipywidgets"
   ]
  },
  {
   "cell_type": "code",
   "execution_count": null,
   "metadata": {},
   "outputs": [],
   "source": [
    "from IPython.display import Audio\n",
    "import soundfile as sf\n",
    "from scipy.signal import spectrogram\n",
    "import matplotlib.pyplot as plt\n",
    "import os\n",
    "import librosa\n",
    "import librosa.display\n",
    "from tqdm import tqdm_notebook\n",
    "from pathlib import Path\n",
    "import shutil\n",
    "import numpy as np\n",
    "import scipy\n",
    "from random import shuffle\n",
    "import matplotlib\n",
    "import csv"
   ]
  },
  {
   "cell_type": "code",
   "execution_count": null,
   "metadata": {},
   "outputs": [],
   "source": [
    "header = 'filename rmse spectral_centroid spectral_bandwidth rolloff zero_crossing_rate'\n",
    "for i in range(1, 13):\n",
    "    header += f' chroma_stft{i}'\n",
    "for i in range(1, 21):\n",
    "    header += f' mfcc{i}'\n",
    "header += ' label'\n",
    "header = header.split()"
   ]
  },
  {
   "cell_type": "code",
   "execution_count": null,
   "metadata": {},
   "outputs": [],
   "source": [
    "os.getcwd()"
   ]
  },
  {
   "cell_type": "code",
   "execution_count": null,
   "metadata": {},
   "outputs": [],
   "source": [
    "\n",
    "y,sr = librosa.load('/raid/audio_detection/audio_detection/for-2seconds/train/real/file5572.wav_16k.wav_norm.wav_mono.wav_silence.wav_2sec.wav', sr=None)"
   ]
  },
  {
   "cell_type": "code",
   "execution_count": null,
   "metadata": {},
   "outputs": [],
   "source": [
    "print(y)"
   ]
  },
  {
   "cell_type": "code",
   "execution_count": null,
   "metadata": {},
   "outputs": [],
   "source": [
    "rmse = librosa.feature.rms(y=y)\n",
    "chroma_stft = librosa.feature.chroma_stft(y=y, sr=sr)\n",
    "spec_cent = librosa.feature.spectral_centroid(y=y, sr=sr)\n",
    "spec_bw = librosa.feature.spectral_bandwidth(y=y, sr=sr)\n",
    "rolloff = librosa.feature.spectral_rolloff(y=y, sr=sr)\n",
    "zcr = librosa.feature.zero_crossing_rate(y)\n",
    "mfcc = librosa.feature.mfcc(y=y, sr=sr)"
   ]
  },
  {
   "cell_type": "code",
   "execution_count": null,
   "metadata": {},
   "outputs": [],
   "source": [
    "print(rmse)\n",
    "print(chroma_stft)\n",
    "print(spec_cent)\n",
    "print(spec_bw)\n",
    "print(rolloff)\n",
    "print(zcr)\n",
    "print(mfcc)"
   ]
  },
  {
   "cell_type": "code",
   "execution_count": null,
   "metadata": {},
   "outputs": [],
   "source": [
    "import warnings\n",
    "warnings.filterwarnings('ignore')\n",
    "\n",
    "count=0\n",
    "for split in ['train','dev','eval']:\n",
    "    with open(f'dataset_{split}.csv', 'w', newline='') as file:\n",
    "        writer = csv.writer(file)\n",
    "        writer.writerow(header)\n",
    "    for label in ['real','fake']:\n",
    "        files = [f for f in os.listdir('/raid/audio_detection/audio_detection/for-2seconds/'+f'{split}/{label}') if 'wav' in f ]\n",
    "        for file in tqdm_notebook(files, desc = f'{split}_{label}'):\n",
    "            y,sr = librosa.load(f'/raid/audio_detection/audio_detection/for-2seconds/{split}/{label}/{file}', sr=None)\n",
    "                #songname = f'audio_biggerthan2sec/{split}/{label}/{filename}'\n",
    "                #y, sr = librosa.load(filename)\n",
    "            #print(y)\n",
    "            try:     \n",
    "                rmse = librosa.feature.rms(y=y)\n",
    "                chroma_stft = librosa.feature.chroma_stft(y=y, sr=sr)\n",
    "                spec_cent = librosa.feature.spectral_centroid(y=y, sr=sr)\n",
    "                spec_bw = librosa.feature.spectral_bandwidth(y=y, sr=sr)\n",
    "                rolloff = librosa.feature.spectral_rolloff(y=y, sr=sr)\n",
    "                zcr = librosa.feature.zero_crossing_rate(y)\n",
    "                mfcc = librosa.feature.mfcc(y=y, sr=sr)\n",
    "                count= count+1\n",
    "                to_append = f'{filename} {np.mean(rmse)} {np.mean(spec_cent)} {np.mean(spec_bw)} {np.mean(rolloff)} {np.mean(zcr)}'\n",
    "                for c in chroma_stft:\n",
    "                    to_append += f' {np.mean(c)}'\n",
    "                for e in mfcc:\n",
    "                    to_append += f' {np.mean(e)}'\n",
    "                to_append += f' {label}'\n",
    "                with open(f'dataset_{split}.csv', 'a', newline='') as file:\n",
    "                    writer = csv.writer(file)\n",
    "                    writer.writerow(to_append.split())\n",
    "            except:\n",
    "                print(\"isn't defined!\")\n"
   ]
  },
  {
   "cell_type": "code",
   "execution_count": null,
   "metadata": {},
   "outputs": [],
   "source": []
  },
  {
   "cell_type": "code",
   "execution_count": null,
   "metadata": {},
   "outputs": [],
   "source": []
  }
 ],
 "metadata": {
  "kernelspec": {
   "display_name": "Python 3",
   "language": "python",
   "name": "python3"
  },
  "language_info": {
   "codemirror_mode": {
    "name": "ipython",
    "version": 3
   },
   "file_extension": ".py",
   "mimetype": "text/x-python",
   "name": "python",
   "nbconvert_exporter": "python",
   "pygments_lexer": "ipython3",
   "version": "3.5.2"
  }
 },
 "nbformat": 4,
 "nbformat_minor": 4
}
