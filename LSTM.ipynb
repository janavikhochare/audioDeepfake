{
 "cells": [
  {
   "cell_type": "code",
   "execution_count": null,
   "metadata": {},
   "outputs": [],
   "source": [
    "pip install numpy"
   ]
  },
  {
   "cell_type": "code",
   "execution_count": null,
   "metadata": {},
   "outputs": [],
   "source": [
    "!pip install pandas"
   ]
  },
  {
   "cell_type": "code",
   "execution_count": null,
   "metadata": {},
   "outputs": [],
   "source": [
    "!pip install matplotlib"
   ]
  },
  {
   "cell_type": "code",
   "execution_count": null,
   "metadata": {},
   "outputs": [],
   "source": [
    "!pip install soundfile"
   ]
  },
  {
   "cell_type": "code",
   "execution_count": null,
   "metadata": {},
   "outputs": [],
   "source": [
    "!apt-get update"
   ]
  },
  {
   "cell_type": "code",
   "execution_count": null,
   "metadata": {},
   "outputs": [],
   "source": [
    "!pip install librosa==0.8.0"
   ]
  },
  {
   "cell_type": "code",
   "execution_count": null,
   "metadata": {},
   "outputs": [],
   "source": [
    "!apt-get install libsndfile-dev -y"
   ]
  },
  {
   "cell_type": "code",
   "execution_count": null,
   "metadata": {},
   "outputs": [],
   "source": [
    "import numpy as np\n",
    "import pandas as pd\n",
    "import os\n",
    "from matplotlib import pyplot as plt\n",
    "from pathlib import Path\n",
    "import tensorflow as tf\n",
    "import shutil\n",
    "import librosa\n",
    "from tqdm import tqdm_notebook\n",
    "from tensorflow.keras.mixed_precision import experimental as mixed_precision\n",
    "from tensorflow.keras.preprocessing.image import ImageDataGenerator\n",
    "from tensorflow.keras import layers, models\n",
    "from tensorflow.keras.optimizers import Adam\n",
    "from tensorflow.keras.callbacks import ModelCheckpoint, EarlyStopping, ReduceLROnPlateau, Callback\n",
    "from tensorflow.keras.models import load_model"
   ]
  },
  {
   "cell_type": "code",
   "execution_count": null,
   "metadata": {
    "scrolled": false
   },
   "outputs": [],
   "source": [
    "policy = mixed_precision.Policy('mixed_float16')\n",
    "mixed_precision.set_policy(policy)"
   ]
  },
  {
   "cell_type": "code",
   "execution_count": null,
   "metadata": {},
   "outputs": [],
   "source": [
    "def lstm(input_shape = (None, 37), lr = 1e-3):\n",
    "    inputs = layers.Input(input_shape)\n",
    "    X = layers.LSTM(64, return_sequences=True)(inputs)\n",
    "    X = layers.LSTM(64, return_sequences=True)(X)\n",
    "    X = layers.Dropout(rate=0.5)(X)\n",
    "    X = layers.LSTM(128, return_sequences=True)(X)\n",
    "    X = layers.LSTM(128, return_sequences=True)(X)\n",
    "    X = layers.Dropout(rate=0.5)(X)\n",
    "    X = layers.LSTM(256, return_sequences=False)(X)\n",
    "    X = layers.Dropout(rate=0.5)(X)\n",
    "    X = layers.Dense(128, activation = 'relu')(X)\n",
    "    X = layers.Dropout(rate=0.5)(X)\n",
    "    X = layers.Dense(1)(X)\n",
    "    X = layers.Activation('sigmoid', dtype='float32', name='predictions')(X)\n",
    "    model = models.Model(inputs = inputs, outputs = X)\n",
    "    model.compile(optimizer = Adam(lr), loss = 'binary_crossentropy', metrics = ['accuracy'])\n",
    "    return model"
   ]
  },
  {
   "cell_type": "code",
   "execution_count": null,
   "metadata": {},
   "outputs": [],
   "source": [
    "from tensorflow.keras.utils import plot_model"
   ]
  },
  {
   "cell_type": "code",
   "execution_count": null,
   "metadata": {},
   "outputs": [],
   "source": [
    "def get_input(filepath):\n",
    "    clip = np.load(filepath)\n",
    "    sample_rate = 16000\n",
    "    rmse = librosa.feature.rms(y=clip)\n",
    "    chroma_stft = librosa.feature.chroma_stft(y=clip, sr=sample_rate)\n",
    "    spec_cent = librosa.feature.spectral_centroid(y=clip, sr=sample_rate)\n",
    "    spec_bw = librosa.feature.spectral_bandwidth(y=clip, sr=sample_rate)\n",
    "    rolloff = librosa.feature.spectral_rolloff(y=clip, sr=sample_rate)\n",
    "    zcr = librosa.feature.zero_crossing_rate(clip)\n",
    "    mfcc = librosa.feature.mfcc(y=clip, sr=sample_rate)\n",
    "    arr = np.concatenate([rmse,chroma_stft,spec_cent,spec_bw,rolloff,zcr,mfcc],axis=0).T\n",
    "    # Do either\n",
    "    # 1. Normalise\n",
    "    #arr = (arr - arr.min(axis=0))/(arr.max(axis=0)-arr.min(axis=0))\n",
    "    # 2. Standardise\n",
    "    arr = (arr - arr.mean(axis=0))/(arr.std(axis=0))\n",
    "    # 3. Standardise then divide\n",
    "    #arr = arr/arr.max(axis=0)\n",
    "    # 4. Normalise in [-1,1]\n",
    "    #arr = 2*(arr - arr.min(axis=0))/(arr.max(axis=0)-arr.min(axis=0)) - 1\n",
    "    return [arr]\n",
    "\n",
    "def data_generator(dataset, split = 'train', batch_size = 8):\n",
    "\n",
    "    assert batch_size % 2 == 0\n",
    "    real_files = [f'{dataset}/{split}/real/{f}' for f in os.listdir(f'{dataset}/{split}/real') if '.ipynb' not in f]\n",
    "    fake_files = [f'{dataset}/{split}/fake/{f}' for f in os.listdir(f'{dataset}/{split}/fake') if '.ipynb' not in f]\n",
    "\n",
    "    while True:\n",
    "        real_batch_paths = np.random.choice(a = real_files, size = batch_size // 2)\n",
    "        fake_batch_paths = np.random.choice(a = fake_files, size = batch_size // 2)\n",
    "        batch_input  = []\n",
    "        batch_output = []\n",
    "\n",
    "        for real_input_path, fake_input_path in zip(real_batch_paths, fake_batch_paths):\n",
    "            batch_input += get_input(real_input_path)\n",
    "            batch_input += get_input(fake_input_path)\n",
    "            batch_output += [[0.],[1.]]\n",
    "        # Return a tuple of (input, output) to feed the network\n",
    "        batch_x = np.array(batch_input,dtype=np.float32)\n",
    "        batch_y = np.array(batch_output,dtype=np.float32)\n",
    "\n",
    "        yield(batch_x, batch_y)\n"
   ]
  },
  {
   "cell_type": "code",
   "execution_count": null,
   "metadata": {},
   "outputs": [],
   "source": [
    "batch_size = 32"
   ]
  },
  {
   "cell_type": "code",
   "execution_count": null,
   "metadata": {},
   "outputs": [],
   "source": [
    "dataset = '/raid/audio_detection/audio_detection/data'"
   ]
  },
  {
   "cell_type": "code",
   "execution_count": null,
   "metadata": {},
   "outputs": [],
   "source": [
    "train_gen = data_generator(dataset, 'train', batch_size = batch_size)\n",
    "dev_gen = data_generator(dataset, 'val', batch_size = batch_size)\n",
    "eval_gen = data_generator(dataset, 'test', batch_size = batch_size)"
   ]
  },
  {
   "cell_type": "code",
   "execution_count": null,
   "metadata": {},
   "outputs": [],
   "source": [
    "train_spe = len(os.listdir(f'{dataset}/train/real'))//batch_size\n",
    "dev_spe = len(os.listdir(f'{dataset}/val/real'))//batch_size\n",
    "eval_spe = len(os.listdir(f'{dataset}/test/real'))//batch_size\n",
    "print(train_spe, dev_spe, eval_spe)"
   ]
  },
  {
   "cell_type": "code",
   "execution_count": null,
   "metadata": {},
   "outputs": [],
   "source": [
    "x,y = next(train_gen)\n",
    "pd.options.display.float_format = '{:,.6f}'.format\n",
    "pd.DataFrame(x[0]).describe()"
   ]
  },
  {
   "cell_type": "code",
   "execution_count": null,
   "metadata": {},
   "outputs": [],
   "source": [
    "batch_size = 16\n",
    "target_size = (256, 256)\n",
    "color_mode = 'grayscale'\n",
    "dataset = '/raid/audio_detection/audio_detection/data'\n",
    "dataset_1= 'new'\n",
    "train_datagen = ImageDataGenerator(rescale=1/255)\n",
    "val_datagen = ImageDataGenerator(rescale=1/255)\n",
    "test_datagen = ImageDataGenerator(rescale=1/255)\n",
    "print(os.getcwd())\n",
    "print(os.chdir(dataset))\n",
    "print(os.getcwd())\n",
    "\n",
    "\n",
    "train_generator = train_datagen.flow_from_directory(f'{dataset}/train/', target_size=target_size, batch_size=batch_size, class_mode='binary', color_mode=color_mode, classes = ['real','fake'])\n",
    "val_generator = val_datagen.flow_from_directory(f'{dataset}/val/', target_size=target_size, batch_size=batch_size, class_mode='binary', color_mode=color_mode, classes = ['real','fake'])\n",
    "test_generator = test_datagen.flow_from_directory(f'{dataset}/test/', target_size=target_size, batch_size=batch_size, class_mode='binary', color_mode=color_mode, classes = ['real','fake'])\n",
    "\n",
    "for attempt in range(1):\n",
    "    model_path = f'models/{dataset}_{attempt}'    \n",
    "    print(os.getcwd())\n",
    "    Path(model_path).mkdir(parents=True, exist_ok = True)\n",
    "    checkpointer = ModelCheckpoint(model_path +'LSTM_MODEL_epochs:{epoch:02d}_acc:{val_accuracy:.4f}.h5', monitor = 'val_loss', save_best_only = True, verbose = 0, mode = 'auto')\n",
    "    #checkpointer = ModelCheckpoint(filepath='model._epochs:{epoch:02d}_acc:{val_accuracy:.4f}.h5',monitor = 'val_loss', save_best_only = True, verbose = 0, mode = 'auto')\n",
    "    earlystopper = EarlyStopping(monitor = 'val_loss', patience = 5, verbose = 0, mode = 'min')\n",
    "    reduceLR = ReduceLROnPlateau(monitor = 'val_loss', factor = 1/np.sqrt(10), patience = 3, cooldown = 1, verbose = 1, mode = 'min')\n",
    "    model = lstm()\n",
    "    history = model.fit(train_generator, steps_per_epoch = len(train_generator), verbose = 1, epochs = 50, callbacks = [checkpointer, earlystopper, reduceLR], validation_data=val_generator, validation_steps = len(val_generator))\n",
    "    print(model.evaluate(test_generator, steps = 2*len(test_generator)))\n",
    "\n",
    "\n",
    "\n",
    "\n",
    "# model_path = f'models/{dataset}'\n",
    "# Path(model_path).mkdir(parents=True, exist_ok = True)\n",
    "# checkpointer = ModelCheckpoint(model_path+f'/{dataset}_lstm_standardised_'+'epochs:{epoch:02d}_acc:{val_accuracy:.4f}.h5', monitor = 'val_loss', save_best_only = True, verbose = 1, mode = 'min')\n",
    "# earlystopper = EarlyStopping(monitor = 'val_loss', patience = 5, verbose = 1, mode = 'min')\n",
    "# reduceLR = ReduceLROnPlateau(monitor = 'val_loss', factor = 1/np.sqrt(10), patience = 3, cooldown = 1, verbose = 1, mode = 'min')\n",
    "# model = lstm()\n",
    "# history = model.fit(train_gen, steps_per_epoch = train_spe, verbose = 1, epochs = 50, callbacks = [checkpointer, earlystopper, reduceLR], validation_data=dev_gen, validation_steps = dev_spe)\n",
    "# print(model.evaluate(eval_gen, steps = eval_spe))\n",
    "\n"
   ]
  },
  {
   "cell_type": "code",
   "execution_count": null,
   "metadata": {},
   "outputs": [],
   "source": []
  }
 ],
 "metadata": {
  "kernelspec": {
   "display_name": "Python 3",
   "language": "python",
   "name": "python3"
  },
  "language_info": {
   "codemirror_mode": {
    "name": "ipython",
    "version": 3
   },
   "file_extension": ".py",
   "mimetype": "text/x-python",
   "name": "python",
   "nbconvert_exporter": "python",
   "pygments_lexer": "ipython3",
   "version": "3.5.2"
  }
 },
 "nbformat": 4,
 "nbformat_minor": 4
}
